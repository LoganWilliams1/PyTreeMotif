{
 "cells": [
  {
   "cell_type": "code",
   "execution_count": 1,
   "id": "initial_id",
   "metadata": {
    "collapsed": true,
    "ExecuteTime": {
     "end_time": "2024-04-02T05:03:30.494451Z",
     "start_time": "2024-04-02T05:03:30.088371Z"
    }
   },
   "outputs": [],
   "source": [
    "import sys\n",
    "import os\n",
    "import time\n",
    "import queue\n",
    "import numpy as np\n",
    "import anytree\n",
    "\n",
    "# Constants\n",
    "MotifLen = 60  # maximum length of the candidate motifs\n",
    "MaxSeqNum = 100  # maximum number of sequences in the datasets\n",
    "MaxSeqLen = 5000  # maximum length of sequences in the datasets\n",
    "SizeofAB = 4  # ACGT/acgt, size of alphabeta\n",
    "\n",
    "# Declare variables\n",
    "L = 15  # default motif length\n",
    "d = 4  # default mutation allowed\n",
    "d0 = 2 * d\n",
    "nm = 3  # number of motifs to output, nm should be larger than 0; default as 3\n",
    "N4 = 0  # number of vertices of length 4, N4 = L/4\n",
    "Nrem = 0  # number of vertices of length rem(mainder), Nrem = L%4\n",
    "HD = [[0]*4445 for _ in range(4445)]\n",
    "RealSequenceNumber = 0  # the real number of sequences in corresponding file which will be changed after each call of function: ReadinData()\n",
    "ConsensusCount = [[] for _ in range(SizeofAB)]\n",
    "CONSENSUS = None  # length L\n",
    "CONSENSUS2 = None  # length L\n",
    "CONSENSUS3 = [[None]*L for _ in range(nm)]\n",
    "string1 = [[None]*MaxSeqLen for _ in range(MaxSeqNum)]  # pointers to the sequence names of MaxSeqNum sequences with each name having a length of MaxFileNameLength\n",
    "string2 = [[None]*MaxSeqLen for _ in range(MaxSeqNum)]  # pointers to the sequence contents of MaxSeqNum sequences with each content having a length of MaxSeqLen\n",
    "string3 = [None]*100\n",
    "Filename = [None]  # name of the data file\n",
    "fp_tree = None  # pointer to file of tree\n",
    "fp_time = None  # pointer to file of time\n",
    "fp_consen = None  # pointer to file of OOPS cliques\n",
    "fp_merge_clique = None  # pointer to file of EMOPS/MOOPs cliques\n",
    "fp_standard = None  # pointer to file of standard format (to use web-tool)\n",
    "isAppending_level_i = False  # if appending happened at a certain level\n",
    "isValid_vt_r = False  # if the reference vertex is valid for tree construction\n",
    "isSorted = False\n",
    "isOOPS = False  # if the clique to find is exactly one occurrence per sequence, default: false\n",
    "isEMOPS = True  # if the clique to find can be equal or more than one occurrence per sequence, default: true\n",
    "isFIRSTtree = True  # if the tree is the first one for a reference combination\n",
    "isOTree = False  # if the trees constructed need to be output\n",
    "isStandard = False  # if the standard output file is in need\n",
    "OutputFileFullName = None  # tree\n",
    "RecanFileName = None  # OOPS cliques rescanned from the consensus\n",
    "MergeFileName = None  # EMOPS/MOOPS cliques rescanned from the consensus\n",
    "StardFileName = None  # standard output format according to the requirements by paper: \"improved benchmark for computational motif discovery\"\n",
    "OutputTimeFileName = \"TreeMotif_Time.txt\"  # time\n",
    "Vertex = None\n",
    "str2 = None  # the re-translated string\n",
    "new_leaf_node = None  # a new leaf node to be appended\n",
    "startT, finishT = None, None\n",
    "IC3 = None  # information content\n",
    "int_4_Vertex = None  # vertex of size 4\n",
    "int_rem_Vertex = None  # vertex of size L mod 4 (remainder)\n",
    "idsVertex = [[None]*MaxSeqLen for _ in range(MaxSeqLen)]\n",
    "i, i2, vt_r, vt_r2 = 0, 0, 0, 0  # sequence id and vertex id frequently used\n",
    "seq_i, vposition_j, vt_j = 0, 0, 0\n",
    "ref_seq, ref_seq2 = 0, 0  # sequence ids of references\n",
    "STPNUM = None  # number of current found connections to the given reference vertex for each sequence 1 to m-1\n",
    "STP = None  # real position in the sequence for the jth connection\n",
    "STPNUM2 = None  # number of current found connections to the given reference vertex for each sequence 2 to m-1\n",
    "STP2 = None  # real position in the sequence for the jth connection\n",
    "STPNUM3 = None\n",
    "STP3 = None\n",
    "Dtemp = 0  # temporary variable of Hamming distance\n",
    "rootid = 0  # id of node to be used as a tree root\n",
    "treerootk = 0  # id of a tree root\n",
    "checknodei = 0  # the node to be checked for appending onto a tree\n",
    "temploc_depth = 0  # the depth of a node in the tree\n",
    "num_diff_consensus = 0  # number of different consensuses have been found\n",
    "num_rescan_consensus = 0  # number of different consensuses rescanned have been found\n",
    "i_diff_clique = 0  # number of different EMOPS/MOOPS cliques: all motif instances have less than 50% percent positions in common\n",
    "number_of_current_branch = 0  # number of OOPS cliques\n",
    "\n",
    "class Sequence:                        # structure of a sequence\n",
    "    def __init__(self):\n",
    "        self.name = None               #\n",
    "        self.content = None            #\n",
    "        self.length = 0                #\n",
    "\n",
    "Seq_temp = Sequence()\n",
    "Seq = [Sequence() for _ in range(MaxSeqNum)]\n",
    "\n",
    "class InstInfo:                       # information of a motif instance\n",
    "    def __init__(self):\n",
    "        self.startingP = 0             # starting position in a sequence\n",
    "        self.string = ['']*MotifLen   # the substring\n",
    "\n",
    "class MotifInfo:                      # structure of a motif\n",
    "    def __init__(self):\n",
    "        self.TREEID = 0                # tree   id\n",
    "        self.BRANID = 0                # branch id\n",
    "        self.INFO = 0.0                # information content\n",
    "        self.INSTANCE = [InstInfo() for _ in range(MaxSeqNum)] #\n",
    "\n",
    "Motif_temp = MotifInfo()\n",
    "Motif_result = MotifInfo()\n",
    "\n",
    "CONsensus = {}                         # hash_map<std::string, int>\n",
    "Traversing_queue = []                  # queue<tree<char*>::iterator>\n",
    "ti = None                              #\n",
    "myTop2, myRoot2 = None, None          #\n",
    "tb, te = None, None                   #\n",
    "newtree_temploc = None                #\n",
    "temploc = None                        #\n",
    "post_itr = None                       #\n",
    "child_beginloc, child_endloc = None, None  #\n",
    "tree0_vt_r = [[] for _ in range(MaxSeqLen)]  #\n",
    "consensus_tree = {}                     # the tree to store the consensuses\n",
    "\n"
   ]
  },
  {
   "cell_type": "code",
   "outputs": [],
   "source": [
    "def CmdlineCheck(argv):\n",
    "    if len(argv) < 2:\n",
    "        print(\"\\n********************************************************** USAGE **************************************************|\")\n",
    "        print(\"COMMAND: TreeMotif1.0 data.fas [Options]                                                                             |\")\n",
    "        print(\"   1. OPTIONS FORMAT: -param <meaning of the param> [default value].                                                 |\")\n",
    "        print(\"   |     1) PARAMS ON MOTIF: -L INT1 -d INT2 -nm INT3. CONSTRAINTS: INT1*(1/3)>=INT2>1, INT3>0.                      |\")\n",
    "        print(\"   |     |     -L  <length of motif to find> [15]                                                                    |\")\n",
    "        print(\"   |     |     -d  <maximum number of mutations on a consensus motif> [4]                                            |\")\n",
    "        print(\"   |     |     -nm <expected number of motifs to output> [3]                                                         |\")\n",
    "        print(\"   |     2) PARAMS ON DATA RESULTED: -toe 3-BIT-DIGIT, WHERE 3-BIT-DIGIT is in {000, 001, ..., 111}.                 |\")\n",
    "        print(\"   |     |      t  <output trees or not> [0]                                                                         |\")\n",
    "        print(\"   |     |      o  <output cliques as OOPS: one occurence of motif instance per sequence> [0]                        |\")\n",
    "        print(\"   |     |      e  <output cliques as EMOPS/MOOPS: more than one occurence of motif isntance per sequence> [1]       |\")\n",
    "        print(\"   |     |     -toe 000: output -------------------------------------------  execution time.                         |\")\n",
    "        print(\"   |     |     -toe 001: output -------------------------- MOOPS cliques and execution time.                         |\")\n",
    "        print(\"   |     |     -toe 010: output --------- OOPS cliques ----------------- and execution time.                         |\")\n",
    "        print(\"   |     |     -toe 011: output --------- OOPS cliques and MOOPS cliques and execution time.                         |\")\n",
    "        print(\"   |     |     -toe 100: output trees ---------------------------------- and execution time.                         |\")\n",
    "        print(\"   |     |     -toe 101: output trees ---------------- and MOOPS cliques and execution time.                         |\")\n",
    "        print(\"   |     |     -toe 110: output trees and OOPS cliques ----------------- and execution time.                         |\")\n",
    "        print(\"   |     |     -toe 111: output trees and OOPS cliques and MOOPS cliques and execution time.                         |\")\n",
    "        print(\"   |     3) PARAMS TO OBTAIN STANDARD OUTPUT FORMAT FOR RESULTS EVALUATION: -s [0]                                   |\")\n",
    "        print(\"   |           -s  <standard format: #Sequence, #start(inclusive), #end(inclusive), #nucleotides> [0]                |\")\n",
    "        print(\"   |                                                                                                                 |\")\n",
    "        print(\"   2. EXAMPLE: TreeMotif1.0 data.fas -L 15 -d 4 -nm 3 -toe 101 -s 0                                                  |\")\n",
    "        print(\"         1): produce 3 cliques of motif instances with motif length as 15 and maximum mutations as 4;                |\")\n",
    "        print(\"         2): output trees; no cliques of OOPS needed; output merged cliques;                                         |\")\n",
    "        print(\"         3): no standard files needed.                                                                               |\")\n",
    "        print(\"\\n********************************************************** END of USAGE *******************************************|\")\n",
    "        sys.exit(1)\n",
    "\n",
    "    ic = 2\n",
    "    d_in = False\n",
    "    while ic < len(argv):\n",
    "        if argv[ic] in (\"-l\", \"-L\") and d_in:\n",
    "            print(\"ERROR: Illegal command line argument. Motif length L must be input before d.\")\n",
    "            print(\"Please input again accordingly.\")\n",
    "            sys.exit(1)\n",
    "        if argv[ic] in (\"-l\", \"-L\"):\n",
    "            ic += 1\n",
    "            if ic < len(argv):\n",
    "                L = int(argv[ic])\n",
    "                if L > MotifLen:\n",
    "                    print(\"ERROR: Motif Length should be less than\", MotifLen)\n",
    "                    print(\"Maximum Motif Length can be reset using '#define MotifLen int_value'\")\n",
    "                    sys.exit(1)\n",
    "            else:\n",
    "                print(\"ERROR: Illegal or incomplete command line argument.\")\n",
    "                sys.exit(1)\n",
    "        elif argv[ic] == \"-d\":\n",
    "            ic += 1\n",
    "            if ic < len(argv):\n",
    "                d = int(argv[ic])\n",
    "                if d > L/2:\n",
    "                    print(\"ERROR: d must be less than\", L/2, \"(L/2);\")\n",
    "                    print(\"proper d can be less than 1/3*L.\")\n",
    "                    sys.exit(1)\n",
    "                d_in = True\n",
    "                d0 = 2*d\n",
    "            else:\n",
    "                print(\"ERROR: Illegal or incomplete command line argument.\")\n",
    "                sys.exit(1)\n",
    "        elif argv[ic] == \"-nm\":\n",
    "            ic += 1\n",
    "            if ic < len(argv):\n",
    "                nm = int(argv[ic])\n",
    "                if nm <= 0:\n",
    "                    print(\"ERROR: nm should be larger than 0.\")\n",
    "                    sys.exit(1)\n",
    "            else:\n",
    "                print(\"ERROR: Illegal or incomplete command line argument.\")\n",
    "                sys.exit(1)\n",
    "        elif argv[ic] == \"-toe\":\n",
    "            ic += 1\n",
    "            if ic < len(argv):\n",
    "                isOTree = (int(argv[ic])/100) & 1\n",
    "                isOOPS = ((int(argv[ic]) % 100) / 10) & 1\n",
    "                isEMOPS = (int(argv[ic]) % 10) & 1\n",
    "            else:\n",
    "                print(\"ERROR: Illegal or incomplete command line argument\")\n",
    "                sys.exit(1)\n",
    "        elif argv[ic] == \"-s\":\n",
    "            ic += 1\n",
    "            if ic < len(argv):\n",
    "                isStandard = int(argv[ic]) & 1\n",
    "            else:\n",
    "                print(\"ERROR: Illegal or incomplete command line argument\")\n",
    "                sys.exit(1)\n",
    "        ic += 1\n",
    "\n",
    "    Filename[0] = argv[1]\n"
   ],
   "metadata": {
    "collapsed": false
   },
   "id": "83b0033428b3a756"
  },
  {
   "cell_type": "code",
   "outputs": [],
   "source": [
    "def ReadinData():\n",
    "    real_seq_number_0 = 0\n",
    "\n",
    "    try:\n",
    "        with open(Filename[0], \"r\") as fp:\n",
    "            while True:\n",
    "                line1 = fp.readline().strip()\n",
    "                line2 = fp.readline().strip()\n",
    "\n",
    "                if not line1 or not line2:\n",
    "                    break\n",
    "\n",
    "                string1[real_seq_number_0] = line1\n",
    "                string2[real_seq_number_0] = line2\n",
    "\n",
    "                Seq[real_seq_number_0].name = line1\n",
    "                Seq[real_seq_number_0].length = len(line2)\n",
    "                Seq[real_seq_number_0].content = line2\n",
    "\n",
    "                real_seq_number_0 += 1\n",
    "\n",
    "    except FileNotFoundError:\n",
    "        print(\"\\n    Cannot open this data file!!!\")\n",
    "        if isOTree:\n",
    "            with open(fp_tree, \"a\") as fpt:\n",
    "                fpt.write(\"Cannot open this data file!!!\\n\")\n",
    "        exit(0)\n",
    "\n",
    "    real_sequence_number = real_seq_number_0\n",
    "\n",
    "    if isOTree:\n",
    "        with open(fp_tree, \"a\") as fpt:\n",
    "            fpt.write(f\"There are {real_seq_number_0} sequences in this file!\\nTrees constructed:\\n\")\n",
    "\n",
    "    # reverse the order of sequences\n",
    "    for tempi in range(real_sequence_number // 2):\n",
    "        seq_temp = Seq[tempi]\n",
    "        Seq[tempi] = Seq[real_sequence_number - 1 - tempi]\n",
    "        Seq[real_sequence_number - 1 - tempi] = seq_temp"
   ],
   "metadata": {
    "collapsed": false
   },
   "id": "d3c8d1c43af9ed3b"
  },
  {
   "cell_type": "code",
   "outputs": [],
   "source": [
    "def Prepare_variables(rmlos):\n",
    "\n",
    "    STP = [[0] * (rmlos + 1) for _ in range(RealSequenceNumber + 1)]\n",
    "    STPNUM = [0] * (RealSequenceNumber + 1)\n",
    "    STP2 = [[0] * (rmlos + 1) for _ in range(RealSequenceNumber + 1)]\n",
    "    STPNUM2 = [0] * (RealSequenceNumber + 1)\n",
    "    STP3 = [[[0] * (rmlos + 1) for _ in range(RealSequenceNumber + 1)] for _ in range(nm + 1)]\n",
    "    STPNUM3 = [[0] * (RealSequenceNumber + 1) for _ in range(nm + 1)]\n",
    "    IC3 = [0.0] * (nm + 1)\n",
    "\n",
    "    for ici in range(nm + 1):\n",
    "        IC3[ici] = 0.0\n",
    "    for ci in range(nm + 1):\n",
    "        for si in range(RealSequenceNumber + 1):\n",
    "            STP3[ci][si] = [0] * (rmlos + 1)\n",
    "\n",
    "    for si in range(RealSequenceNumber + 1):\n",
    "        STP[si] = [0] * (rmlos + 1)\n",
    "        STP2[si] = [0] * (rmlos + 1)\n",
    "\n",
    "    N4 = L // 4\n",
    "    Nrem = L % 4\n",
    "\n",
    "    idsVertex = []\n",
    "    for j in range(MaxSeqLen):\n",
    "        if Nrem > 0:\n",
    "            idsVertex.append([j + 4 * (id + 1) for id in range(N4)])\n",
    "        else:\n",
    "            idsVertex.append([j + 4 * (id + 1) for id in range(N4 - 1)])\n",
    "\n",
    "    if nm > 0 and isOOPS:\n",
    "        Motif_result = [None] * nm\n",
    "        for ni in range(nm):\n",
    "            Motif_result[ni] = {'INFO': -100}\n",
    "        CONSENSUS = [''] * L\n",
    "        CONSENSUS2 = [''] * L\n",
    "\n",
    "    ConsensusCount = [[0] * L for _ in range(SizeofAB)]"
   ],
   "metadata": {
    "collapsed": false
   },
   "id": "3d15f6197dd478a8"
  },
  {
   "cell_type": "code",
   "outputs": [],
   "source": [
    "def HammingDistanceCalc(x1, x2):\n",
    "    distance = len(x1)  # Initialize distance with the length of x1\n",
    "    for char1, char2 in zip(x1, x2):  # Iterate over characters of x1 and x2 simultaneously\n",
    "        if char1 == char2:\n",
    "            distance -= 1\n",
    "        if distance <= d:  # If distance is less than or equal to d, break the loop\n",
    "            break\n",
    "    return distance"
   ],
   "metadata": {
    "collapsed": false
   },
   "id": "8ec9290db3bb1491"
  },
  {
   "cell_type": "code",
   "outputs": [],
   "source": [
    "def HammingDistanceCalc2(i1, j1, i2, j2):\n",
    "    distance = L\n",
    "    id_v = 0\n",
    "\n",
    "    if Nrem == 0:\n",
    "        id_str1 = int_4_Vertex[i1][j1]\n",
    "        id_str2 = int_4_Vertex[i2][j2]\n",
    "        distance -= HD[id_str1][id_str2]\n",
    "        while id_v < N4 - 1:\n",
    "            id_str1 = int_4_Vertex[i1][idsVertex[j1][id_v]]\n",
    "            id_str2 = int_4_Vertex[i2][idsVertex[j2][id_v]]\n",
    "            distance -= HD[id_str1][id_str2]\n",
    "            if distance <= d0:\n",
    "                break\n",
    "            id_v += 1\n",
    "    else:\n",
    "        id_str1 = int_4_Vertex[i1][j1]\n",
    "        id_str2 = int_4_Vertex[i2][j2]\n",
    "        distance -= HD[id_str1][id_str2]\n",
    "        while id_v < N4 - 1:\n",
    "            id_str1 = int_4_Vertex[i1][idsVertex[j1][id_v]]\n",
    "            id_str2 = int_4_Vertex[i2][idsVertex[j2][id_v]]\n",
    "            distance -= HD[id_str1][id_str2]\n",
    "            if distance <= d0:\n",
    "                break\n",
    "            id_v += 1\n",
    "        if distance > d0:\n",
    "            id_str1 = int_rem_Vertex[i1][idsVertex[j1][N4 - 1]]\n",
    "            id_str2 = int_rem_Vertex[i2][idsVertex[j2][N4 - 1]]\n",
    "            distance -= HD[id_str1][id_str2]\n",
    "\n",
    "    return distance"
   ],
   "metadata": {
    "collapsed": false
   },
   "id": "40f8d9617631a3c1"
  },
  {
   "cell_type": "code",
   "outputs": [],
   "source": [
    "def Find_vertices():\n",
    "    Vertex = np.empty((RealSequenceNumber,), dtype=np.object)\n",
    "    if Vertex is None:\n",
    "        print(\"   Vertex malloc error.\")\n",
    "        exit(1)\n",
    "    \n",
    "    int_4_Vertex = np.empty((RealSequenceNumber,), dtype=np.object)\n",
    "    if int_4_Vertex is None:\n",
    "        print(\"   int_4_Vertex malloc error.\")\n",
    "        exit(1)\n",
    "    \n",
    "    if Nrem > 0:\n",
    "        int_rem_Vertex = np.empty((RealSequenceNumber,), dtype=np.object)\n",
    "        if int_rem_Vertex is None:\n",
    "            print(\"   int_rem_Vertex malloc error.\")\n",
    "            exit(1)\n",
    "    for seq_i in range(RealSequenceNumber):\n",
    "        Vertex[seq_i] = [None] * Seq[seq_i].length\n",
    "        for vposition_j in range(Seq[seq_i].length - L + 1):\n",
    "            Vertex[seq_i][vposition_j] = [None] * L\n",
    "    \n",
    "            # vertex of length 4\n",
    "        int_4_Vertex[seq_i] = [None] * Seq[seq_i].length\n",
    "    \n",
    "        # vertex of length rem\n",
    "        if Nrem > 0:\n",
    "            int_rem_Vertex[seq_i] = [None] * Seq[seq_i].length\n",
    "    for seq_i in range(RealSequenceNumber):\n",
    "    # length L\n",
    "        for vposition_j in range(Seq[seq_i].length - L + 1):\n",
    "            Vertex[seq_i][vposition_j] = Seq[seq_i].content[vposition_j:vposition_j+L]\n",
    "    \n",
    "        # length 4\n",
    "        for vposition_j in range(Seq[seq_i].length - 4 + 1):\n",
    "            temp4str = Seq[seq_i].content[vposition_j:vposition_j+4]\n",
    "            int_4_Vertex[seq_i][vposition_j] = int(temp4str)\n",
    "    \n",
    "        if Nrem > 0:\n",
    "            for vposition_j in range(Seq[seq_i].length - Nrem + 1):  # length rem\n",
    "                tempremstr = Seq[seq_i].content[vposition_j:vposition_j+Nrem]\n",
    "                int_rem_Vertex[seq_i][vposition_j] = int(tempremstr)"
   ],
   "metadata": {
    "collapsed": false
   },
   "id": "60efdcfb8dfa4d22"
  },
  {
   "cell_type": "code",
   "outputs": [],
   "source": [
    "def Find_vt_r_connections_level_i():\n",
    "    STPNUM[i] = 0\n",
    "    for vt_j in range(Seq[i].length - L + 1):\n",
    "        Dtemp = HammingDistanceCalc2(0, vt_r, i, vt_j)\n",
    "        if Dtemp <= d0:\n",
    "            STPNUM[i] += 1\n",
    "            STP[i][STPNUM[i] - 1] = vt_j"
   ],
   "metadata": {
    "collapsed": false
   },
   "id": "2bdd16f1e6b8f15e"
  },
  {
   "cell_type": "code",
   "outputs": [],
   "source": [
    "def Find_vt_r_connections_level_i2():\n",
    "    STPNUM2[i2] = 0\n",
    "    for vt_j in range(STPNUM[i2]):\n",
    "        Dtemp = HammingDistanceCalc2(1, STP[1][vt_r2], i2, STP[i2][vt_j])\n",
    "        if Dtemp <= d0:\n",
    "            STPNUM2[i2] += 1\n",
    "            STP2[i2][STPNUM2[i2] - 1] = STP[i2][vt_j]"
   ],
   "metadata": {
    "collapsed": false
   },
   "id": "84a3d18ba23172a4"
  },
  {
   "cell_type": "code",
   "outputs": [],
   "source": [
    "def Delete_illegal_branch():\n"
   ],
   "metadata": {
    "collapsed": false,
    "ExecuteTime": {
     "end_time": "2024-04-02T22:36:22.542492Z",
     "start_time": "2024-04-02T22:36:22.534818Z"
    }
   },
   "id": "df9f072831c8d229",
   "execution_count": 1
  },
  {
   "cell_type": "code",
   "outputs": [],
   "source": [
    "def Check_vertices_level_i():"
   ],
   "metadata": {
    "collapsed": false
   },
   "id": "96b5f3d369474c37"
  },
  {
   "cell_type": "code",
   "outputs": [],
   "source": [
    "def Traverse_existed_tree():"
   ],
   "metadata": {
    "collapsed": false
   },
   "id": "d79b98451e2a13d4"
  },
  {
   "cell_type": "code",
   "outputs": [],
   "source": [
    "def Traverse_children_of_a_node():"
   ],
   "metadata": {
    "collapsed": false
   },
   "id": "f8f1867c09ed0868"
  },
  {
   "cell_type": "code",
   "outputs": [],
   "source": [
    "def Construct_trees():"
   ],
   "metadata": {
    "collapsed": false
   },
   "id": "d7df47a2e3f6ff5"
  },
  {
   "cell_type": "code",
   "outputs": [],
   "source": [
    "def InitializeHD():"
   ],
   "metadata": {
    "collapsed": false
   },
   "id": "b47be1737802d26b"
  },
  {
   "cell_type": "code",
   "outputs": [],
   "source": [
    "def Translate2intSeq():"
   ],
   "metadata": {
    "collapsed": false
   },
   "id": "b6965ddb4a816091"
  },
  {
   "cell_type": "code",
   "outputs": [],
   "source": [
    "def ReTranslate2charString(str):"
   ],
   "metadata": {
    "collapsed": false
   },
   "id": "7463239221ab41b7"
  },
  {
   "cell_type": "code",
   "outputs": [],
   "source": [
    "def Check_clique():"
   ],
   "metadata": {
    "collapsed": false
   },
   "id": "7dd1b5952d5e89e2"
  },
  {
   "cell_type": "code",
   "outputs": [],
   "source": [
    "def Base_Count(STP0):"
   ],
   "metadata": {
    "collapsed": false
   },
   "id": "17972620350ac57c"
  },
  {
   "cell_type": "code",
   "outputs": [],
   "source": [
    "def InfoContent_Calc(STP0):"
   ],
   "metadata": {
    "collapsed": false
   },
   "id": "63764995084a766d"
  },
  {
   "cell_type": "code",
   "outputs": [],
   "source": [
    "def Consensus_Calc():"
   ],
   "metadata": {
    "collapsed": false
   },
   "id": "be6a789329e67f68"
  },
  {
   "cell_type": "code",
   "outputs": [],
   "source": [
    "def Output_trees():"
   ],
   "metadata": {
    "collapsed": false
   },
   "id": "e9a7541ef3533eaa"
  },
  {
   "cell_type": "code",
   "outputs": [],
   "source": [
    "def SortMotifResult():"
   ],
   "metadata": {
    "collapsed": false
   },
   "id": "e5878e9cebedbc53"
  },
  {
   "cell_type": "code",
   "outputs": [],
   "source": [
    "def Output_cliques():"
   ],
   "metadata": {
    "collapsed": false
   },
   "id": "d48a197355dd80c2"
  },
  {
   "cell_type": "code",
   "outputs": [],
   "source": [
    "def Eliminate_Cinstance(STPNUMc, STPc, RealSeqNum):"
   ],
   "metadata": {
    "collapsed": false
   },
   "id": "b94d428658c59012"
  },
  {
   "cell_type": "code",
   "outputs": [],
   "source": [
    "def Output_Merged_Cliques():"
   ],
   "metadata": {
    "collapsed": false
   },
   "id": "11fe22f24bf78272"
  },
  {
   "cell_type": "code",
   "outputs": [],
   "source": [
    "def Output_Standard_Cliques():"
   ],
   "metadata": {
    "collapsed": false
   },
   "id": "9862ec0f41f236ee"
  },
  {
   "cell_type": "code",
   "outputs": [],
   "source": [
    "def Output_rescan_cliques():"
   ],
   "metadata": {
    "collapsed": false
   },
   "id": "17dae22fdfd8f382"
  },
  {
   "cell_type": "code",
   "outputs": [],
   "source": [
    "\n",
    "def main(argv):\n",
    "\n",
    "    # read in parameters from the cmd line\n",
    "    CmdlineCheck(argv)\n",
    "\n",
    "    startT = time.time()\n",
    "\n",
    "    # file to record execution time\n",
    "    fp_time = open(OutputTimeFileName, \"a+\")\n",
    "    if fp_time is None:\n",
    "        print(\"Cannot open file to write in running time!!!\")\n",
    "        exit(1)\n",
    "\n",
    "    # file to record trees\n",
    "    if isOTree:\n",
    "        print(\"\\nBegin searching trees for file: %s, \" % Filename[0])\n",
    "        OutputFileFullName = \"Tree_of_\" + Filename[0]\n",
    "        fp_tree = open(OutputFileFullName, \"w\")\n",
    "        if fp_tree is None:\n",
    "            print(\"Cannot open output file!!!\")\n",
    "            exit(1)\n",
    "\n",
    "    # file to record cliques of size == m\n",
    "    if isOOPS:\n",
    "        RecanFileName = \"R_of_\" + Filename[0]\n",
    "        fp_consen = open(RecanFileName, \"w\")\n",
    "        if fp_consen is None:\n",
    "            print(\"Cannot open output file!!!\")\n",
    "            exit(1)\n",
    "\n",
    "    # file to record cliques of size >= m\n",
    "    if isEMOPS:\n",
    "        MergeFileName = \"R_MC_of_\" + Filename[0]  # results of merged clique\n",
    "        fp_merge_clique = open(MergeFileName, \"w\")\n",
    "        if fp_merge_clique is None:\n",
    "            print(\"Cannot open output file!!!\")\n",
    "            exit(1)\n",
    "        CONSENSUS3 = np.empty((nm + 1, L), dtype=str)\n",
    "\n",
    "    # file to record cliques with required format\n",
    "    if isStandard:\n",
    "        k = 0\n",
    "        while Filename[0][k] != '.':\n",
    "            StardFileName[k] = Filename[0][k]\n",
    "            k += 1\n",
    "        StardFileName = StardFileName + \"_pred.txt\"\n",
    "        fp_standard = open(StardFileName, \"w\")\n",
    "        if fp_standard is None:\n",
    "            print(\"Cannot open output file!!!\")\n",
    "            exit(1)\n",
    "\n",
    "    # read in data from the data file\n",
    "    RealSequenceNumber = 0\n",
    "    ReadinData()\n",
    "\n",
    "    # translate the data into forms of 1234\n",
    "    Translate2intSeq()\n",
    "\n",
    "    # prepare related variables\n",
    "    Prepare_variables(MaxSeqLen)\n",
    "\n",
    "    # prepare the distance array\n",
    "    InitializeHD()\n",
    "\n",
    "    # set the first two sequences as the reference sequences\n",
    "    ref_seq = 0\n",
    "    ref_seq2 = 1\n",
    "    print(\"Selected reference sequences are %s and %s...\\n\" % (Seq[ref_seq].name[1:], Seq[ref_seq2].name[1:]))\n",
    "\n",
    "    # find all l-mer substrings using a sliding window\n",
    "    Find_vertices()\n",
    "\n",
    "    # start tree construction\n",
    "    isSorted = False\n",
    "    STPNUM[0] = Seq[0].length - L + 1\n",
    "    num_rescan_consensus = 0\n",
    "    for vt_r in range(STPNUM[0]):\n",
    "        STP[0][vt_r] = vt_r\n",
    "        isValid_vt_r = True\n",
    "        for i in range(1, RealSequenceNumber):\n",
    "            Find_vt_r_connections_level_i()\n",
    "            if STPNUM[i] == 0:\n",
    "                isValid_vt_r = False\n",
    "                break\n",
    "        if isValid_vt_r:\n",
    "            Construct_trees()\n",
    "        else:\n",
    "            continue\n",
    "\n",
    "        '''\n",
    "        # output cliques with rescanning for motif instances using consensus motifs\n",
    "        if fp_consen:\n",
    "            # not used in this version\n",
    "            Output_rescan_cliques()\n",
    "        '''\n",
    "\n",
    "    # output results of cliques\n",
    "    if isStandard:\n",
    "        # output cliques under standard format\n",
    "        Output_Standard_Cliques()\n",
    "    if isEMOPS:\n",
    "        # get the consensuses\n",
    "        Consensus_Calc()\n",
    "\n",
    "        # eliminate instances\n",
    "        Eliminate_Cinstance(STPNUM3, STP3, RealSequenceNumber)\n",
    "\n",
    "        # output the merged cliques\n",
    "        Output_Merged_Cliques()\n",
    "        print(\"   Total number of different cliques found: %d; expected: %d.\\n\" % (i_diff_clique, nm))\n",
    "    if isOOPS:\n",
    "        # output the cliques of size m\n",
    "        Output_cliques()\n",
    "\n",
    "    # output execution time\n",
    "    finishT = time.time()\n",
    "    print(\"   Total time for the file %s: %.4f seconds.\\n\" % (Filename[0], (finishT - startT) / 1000))\n",
    "    fp_time.write(\"%s_L%d_d%d_nm%d: %.4f s\\n\" % (Filename[0], L, d, nm, (finishT - startT) / 1000))\n",
    "    if isOTree:\n",
    "        fp_tree.write(\"Total time for the file %s: %.4f seconds.\\n\" % (Filename[0], (finishT - startT) / 1000))\n",
    "\n",
    "    \n",
    "    if nm > 0 and isOOPS:\n",
    "        fp_consen.close()  # cliques of size m\n",
    "    if isOTree:\n",
    "        fp_tree.close()  # tree\n",
    "    if isEMOPS:\n",
    "        for ci in range(nm + 1):\n",
    "            CONSENSUS3[ci] = None\n",
    "            fp_merge_clique.close()  # cliques of size>=m, because of merging\n",
    "    if isStandard:\n",
    "        fp_standard.close()\n",
    "    fp_time.close()\n",
    "    return 0\n",
    "\n",
    "# Main function\n",
    "if __name__ == \"__main__\":\n",
    "    main(sys.argv)"
   ],
   "metadata": {
    "collapsed": false
   },
   "id": "e6f59afd20699039"
  }
 ],
 "metadata": {
  "kernelspec": {
   "display_name": "Python 3",
   "language": "python",
   "name": "python3"
  },
  "language_info": {
   "codemirror_mode": {
    "name": "ipython",
    "version": 2
   },
   "file_extension": ".py",
   "mimetype": "text/x-python",
   "name": "python",
   "nbconvert_exporter": "python",
   "pygments_lexer": "ipython2",
   "version": "2.7.6"
  }
 },
 "nbformat": 4,
 "nbformat_minor": 5
}
