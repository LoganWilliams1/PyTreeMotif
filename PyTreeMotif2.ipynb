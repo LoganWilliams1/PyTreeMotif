{
 "cells": [
  {
   "metadata": {},
   "cell_type": "markdown",
   "source": "### IMPORTS ###",
   "id": "2376f43055f51e0f"
  },
  {
   "metadata": {},
   "cell_type": "code",
   "outputs": [],
   "execution_count": 11,
   "source": [
    "from collections import deque\n",
    "import copy"
   ],
   "id": "95847246d7c1e8cb"
  },
  {
   "metadata": {},
   "cell_type": "markdown",
   "source": " ### CLASSES ###",
   "id": "28b20b1751619764"
  },
  {
   "metadata": {},
   "cell_type": "code",
   "outputs": [],
   "execution_count": 1,
   "source": [
    "class Sequence_Node:\n",
    "    def __init__(self, seq, id):\n",
    "        self.seq = seq\n",
    "        self.id = id"
   ],
   "id": "a3e874f49cc80b3a"
  },
  {
   "metadata": {},
   "cell_type": "code",
   "outputs": [],
   "execution_count": 2,
   "source": [
    "class Sequence_Node_Set:\n",
    "    def __init__(self, id):\n",
    "        self.id = id\n",
    "        self.members = set()\n",
    "        \n",
    "    def add_member(self, member):\n",
    "        self.members.add(member)"
   ],
   "id": "c657858a1e656fd4"
  },
  {
   "metadata": {},
   "cell_type": "code",
   "outputs": [],
   "execution_count": 3,
   "source": [
    "class Reference_Pair:\n",
    "    def __init__(self, pair_id, seq1, seq2, num_seq):\n",
    "        self.pair_id = pair_id\n",
    "        self.seq1 = seq1\n",
    "        self.seq2 = seq2\n",
    "        \n",
    "        self.node_sets = [] \n",
    "        for i in range(2, num_seq):\n",
    "            self.node_sets.append(Sequence_Node_Set(i))\n",
    "            \n",
    "        self.tree_list = []\n",
    "\n",
    "        \n",
    "    "
   ],
   "id": "291f106cddb4d531"
  },
  {
   "metadata": {},
   "cell_type": "code",
   "outputs": [],
   "execution_count": 9,
   "source": [
    "class Tree_Node:\n",
    "    def __init__(self, seq, seq_id, depth=0):\n",
    "        self.seq = seq\n",
    "        self.seq_id = seq_id\n",
    "        self.children = []\n",
    "        self.depth = depth\n",
    "        self.parent = None\n",
    "\n",
    "    def add_child(self, child_node):\n",
    "        child_node.parent = self\n",
    "        child_node.depth = self.depth + 1\n",
    "        self.children.append(child_node)\n",
    "        \n",
    "\n",
    "    def remove_child(self, child_node):\n",
    "        if child_node in self.children:\n",
    "            child_node.parent = None\n",
    "            self.children.remove(child_node)"
   ],
   "id": "b912f4314f434eba"
  },
  {
   "metadata": {},
   "cell_type": "code",
   "outputs": [],
   "execution_count": 10,
   "source": [
    "class Tree:\n",
    "    def __init__(self, root):\n",
    "        self.root = Tree_Node(root.seq, root.id)\n",
    "        self.current_leaves = []\n",
    "        self.height = 0\n",
    "        self.id = 0\n",
    "    \n",
    "    def save_leaf(self, leaf):\n",
    "        self.current_leaves.append(leaf)\n",
    "        \n",
    "    def unsave_leaf(self, leaf):\n",
    "        if leaf in self.current_leaves:\n",
    "            self.current_leaves.remove(leaf)"
   ],
   "id": "53897b64ff3bdc9f"
  },
  {
   "metadata": {},
   "cell_type": "markdown",
   "source": "### FUNCTIONS ###",
   "id": "8535d9cd69c1619e"
  },
  {
   "metadata": {},
   "cell_type": "code",
   "outputs": [],
   "execution_count": 4,
   "source": [
    "def read_file_to_list(filename):\n",
    "    try:\n",
    "        # Open the file in read mode\n",
    "        with open(filename, 'r') as file:\n",
    "            # Read all lines from the file and store them in a list\n",
    "            lines = file.readlines()\n",
    "        # Remove newline characters from each line and strip any leading/trailing whitespaces\n",
    "        lines = [line.strip() for line in lines]\n",
    "        \n",
    "        return lines\n",
    "    except FileNotFoundError:\n",
    "        print(f\"Error: File '{filename}' not found.\")\n",
    "        return []\n",
    "    except Exception as e:\n",
    "        print(f\"Error: {e}\")\n",
    "        return []"
   ],
   "id": "8124253d90d9bbb"
  },
  {
   "metadata": {},
   "cell_type": "code",
   "outputs": [],
   "execution_count": 5,
   "source": [
    "def hamming_distance(str1, str2):\n",
    "\n",
    "    return sum(bit1 != bit2 for bit1, bit2 in zip(str1, str2))\n",
    "    "
   ],
   "id": "18d3bb406808d6c2"
  },
  {
   "metadata": {},
   "cell_type": "code",
   "outputs": [],
   "execution_count": 15,
   "source": [
    "def find_paths(node, path, paths):\n",
    "    if node is None:\n",
    "        return\n",
    "    path.append(node.seq)\n",
    "    if not node.children:\n",
    "        paths.append(path)\n",
    "    \n",
    "    for child in node.children:\n",
    "        find_paths(child, path, paths)\n",
    "        \n",
    "    \n",
    "    \n",
    "    return paths"
   ],
   "id": "79bef1f6ef2fd760"
  },
  {
   "metadata": {},
   "cell_type": "code",
   "outputs": [],
   "execution_count": 12,
   "source": [
    "def extendable(node, tree, ith_seq):\n",
    "    queue = deque()\n",
    "    if hamming_distance(tree.root.seq, node.seq) <= _2d:\n",
    "        queue.append(tree.root)\n",
    "        print(\"Root:\", tree.root.seq)\n",
    "        print(\"Node to add: \", node.seq, \" from sequence \", ith_seq)\n",
    "        iteration = 0\n",
    "        while len(queue) > 0 and queue[0].depth < ith_seq - 3:\n",
    "            \n",
    "            print(\"Queue contents at iteration \", iteration, \":\")\n",
    "            for i in queue:\n",
    "                print(i.seq)\n",
    "            \n",
    "            print(\"while loop check\")\n",
    "            front = queue.popleft()\n",
    "            for child in front.children:\n",
    "                if hamming_distance(child.seq, node.seq) <= _2d:\n",
    "                    queue.append(child)\n",
    "            \n",
    "            iteration += 1\n",
    "        \n",
    "        \n",
    "    print(\"Queue contents returned:\")\n",
    "    for i in queue:\n",
    "        print(i.seq)\n",
    "\n",
    "    return queue\n",
    "        "
   ],
   "id": "836ac43ace1fbaa8"
  },
  {
   "metadata": {},
   "cell_type": "code",
   "outputs": [],
   "execution_count": 13,
   "source": [
    "def prune_branches(tree):\n",
    "    for leaf in tree.current_leaves:\n",
    "        if leaf.depth < tree.height:\n",
    "            current_node = leaf\n",
    "            num_siblings = len(current_node.parent.children) - 1\n",
    "            while num_siblings == 0:\n",
    "                current_node = current_node.parent\n",
    "                num_siblings = len(current_node.parent.children) - 1\n",
    "            parent = current_node.parent\n",
    "            parent.remove_child(current_node)\n",
    "            tree.unsave_leaf(leaf)"
   ],
   "id": "8e24be551bba853b"
  },
  {
   "metadata": {},
   "cell_type": "markdown",
   "source": "### Inputs ###",
   "id": "ef5254f49ab899b8"
  },
  {
   "metadata": {},
   "cell_type": "code",
   "outputs": [],
   "execution_count": 6,
   "source": [
    "l = 4\n",
    "d = 1\n",
    "\n",
    "input_filename = 'minimal_test.txt'\n"
   ],
   "id": "be3a99c7bd2b3ec"
  },
  {
   "metadata": {},
   "cell_type": "markdown",
   "source": "### Step 1: Node Selection ###",
   "id": "cba84ca10ff13f44"
  },
  {
   "metadata": {},
   "cell_type": "code",
   "outputs": [
    {
     "name": "stdout",
     "output_type": "stream",
     "text": [
      "Reference Pair  0\n",
      "Reference Pair  1\n",
      "Reference Pair  2\n"
     ]
    }
   ],
   "execution_count": 7,
   "source": [
    "\n",
    "_2d = 2 * d\n",
    "\n",
    "sequence_list = read_file_to_list(input_filename)\n",
    "num_seq = len(sequence_list)\n",
    "\n",
    "reference_seq_1 = sequence_list[0]\n",
    "reference_seq_2 = sequence_list[1]\n",
    "reference_pair_list = []\n",
    "reference_pair_counter = 0\n",
    "    \n",
    "for i in range(len(reference_seq_1) - l + 1):\n",
    "    for j in range(len(reference_seq_2) - l + 1):\n",
    "        if hamming_distance(reference_seq_1[i:i+l], reference_seq_2[j:j+l]) <= _2d:\n",
    "            ref_sub_seq = reference_seq_1[i:i+l]\n",
    "            ref_sub_seq2 = reference_seq_2[j:j+l]\n",
    "            reference_pair = Reference_Pair(pair_id=reference_pair_counter, seq1=ref_sub_seq, seq2=ref_sub_seq2, num_seq=num_seq)\n",
    "\n",
    "            \n",
    "            count_seqs_with_nodes = 0\n",
    "            for k in range(2, num_seq):                \n",
    "                has_nodes = False\n",
    "                for m in range(len(sequence_list[k]) - l + 1):\n",
    "                    sub_seq = sequence_list[k][m:m+l]\n",
    "                    if hamming_distance(sub_seq, ref_sub_seq) <= _2d and hamming_distance(sub_seq, reference_seq_2) <= _2d:\n",
    "                        seq_node = Sequence_Node(seq=sub_seq, id=k)\n",
    "                        reference_pair.node_sets[k-2].add_member(seq_node)\n",
    "                        has_nodes = True\n",
    "                if has_nodes:\n",
    "                    count_seqs_with_nodes += 1\n",
    "            \n",
    "            if count_seqs_with_nodes == num_seq - 2:\n",
    "                reference_pair_list.append(reference_pair)\n",
    "                reference_pair_counter += 1\n",
    "                print(\"Reference Pair \", reference_pair.pair_id)\n",
    "                \n",
    "\n",
    "            \n",
    "\n",
    "\n"
   ],
   "id": "bfcb5d26f7f910e1"
  },
  {
   "metadata": {},
   "cell_type": "markdown",
   "source": "### TEST NODE SELECTION ###",
   "id": "b0a1c7ffe71a428c"
  },
  {
   "metadata": {
    "ExecuteTime": {
     "end_time": "2024-04-13T11:24:35.887679Z",
     "start_time": "2024-04-13T11:24:35.877593Z"
    }
   },
   "cell_type": "code",
   "source": [
    "for pair in reference_pair_list:\n",
    "    print(\"Reference Pair\", pair.pair_id, \": \", pair.seq1, \", \", pair.seq2)\n",
    "    print()\n",
    "\n",
    "    for node_set in pair.node_sets:\n",
    "        print(\"Sequence \", node_set.id, \"'s nodes for pair \", pair.pair_id, \": \")\n",
    "        for node in node_set.members:\n",
    "            print(node.seq)\n",
    "\n",
    "\n",
    "\n"
   ],
   "id": "244147bb9491826",
   "outputs": [
    {
     "name": "stdout",
     "output_type": "stream",
     "text": [
      "Reference Pair 0 :  TTGA ,  TTGA\n",
      "\n",
      "Sequence  2 's nodes for pair  0 : \n",
      "TAGA\n",
      "Sequence  3 's nodes for pair  0 : \n",
      "GCGA\n",
      "Sequence  4 's nodes for pair  0 : \n",
      "GTGA\n",
      "Reference Pair 1 :  GAGA ,  TTGA\n",
      "\n",
      "Sequence  2 's nodes for pair  1 : \n",
      "TAGA\n",
      "Sequence  3 's nodes for pair  1 : \n",
      "GCGA\n",
      "Sequence  4 's nodes for pair  1 : \n",
      "GTGA\n",
      "Reference Pair 2 :  GAGA ,  GACA\n",
      "\n",
      "Sequence  2 's nodes for pair  2 : \n",
      "TAGA\n",
      "Sequence  3 's nodes for pair  2 : \n",
      "GCGA\n",
      "Sequence  4 's nodes for pair  2 : \n",
      "GTGA\n"
     ]
    }
   ],
   "execution_count": 18
  },
  {
   "metadata": {},
   "cell_type": "markdown",
   "source": "### Step 2: Tree Construction ###",
   "id": "5c88dce40133a98b"
  },
  {
   "metadata": {
    "ExecuteTime": {
     "end_time": "2024-04-13T11:24:41.823533Z",
     "start_time": "2024-04-13T11:24:41.802801Z"
    }
   },
   "cell_type": "code",
   "source": [
    "tree_count = 0\n",
    "for pair in reference_pair_list:\n",
    "    node_sets = pair.node_sets\n",
    "    for node in node_sets[0].members:\n",
    "        root = Sequence_Node(seq=node.seq, id=node.id)\n",
    "        tree = Tree(root)\n",
    "        \n",
    "        for i in range(3, num_seq):\n",
    "            flag = False\n",
    "            for node in node_sets[i-2].members:\n",
    "                branches = extendable(node, tree, i)\n",
    "                if branches:\n",
    "                    print(\"branches check\")\n",
    "                    for branch in branches:\n",
    "                        new_leaf = Tree_Node(seq=node.seq, seq_id=node.id)\n",
    "                        branch.add_child(new_leaf)\n",
    "                        tree.save_leaf(new_leaf)\n",
    "                        tree.unsave_leaf(branch)\n",
    "                    flag = True\n",
    "            if not flag:\n",
    "                tree = None\n",
    "                break\n",
    "            tree.height += 1\n",
    "            prune_branches(tree)\n",
    "        if tree:    \n",
    "            pair.tree_list.append(tree)\n",
    "            tree.id = tree_count\n",
    "            tree_count += 1\n",
    "\n",
    "    \n",
    "            \n",
    "            \n",
    "        \n",
    "        "
   ],
   "id": "94eaeac5108e9493",
   "outputs": [
    {
     "name": "stdout",
     "output_type": "stream",
     "text": [
      "Root: TAGA\n",
      "Node to add:  GCGA  from sequence  3\n",
      "Queue contents returned:\n",
      "TAGA\n",
      "branches check\n",
      "Root: TAGA\n",
      "Node to add:  GTGA  from sequence  4\n",
      "Queue contents at iteration  0 :\n",
      "TAGA\n",
      "while loop check\n",
      "Queue contents returned:\n",
      "GCGA\n",
      "branches check\n",
      "Root: TAGA\n",
      "Node to add:  GCGA  from sequence  3\n",
      "Queue contents returned:\n",
      "TAGA\n",
      "branches check\n",
      "Root: TAGA\n",
      "Node to add:  GTGA  from sequence  4\n",
      "Queue contents at iteration  0 :\n",
      "TAGA\n",
      "while loop check\n",
      "Queue contents returned:\n",
      "GCGA\n",
      "branches check\n",
      "Root: TAGA\n",
      "Node to add:  GCGA  from sequence  3\n",
      "Queue contents returned:\n",
      "TAGA\n",
      "branches check\n",
      "Root: TAGA\n",
      "Node to add:  GTGA  from sequence  4\n",
      "Queue contents at iteration  0 :\n",
      "TAGA\n",
      "while loop check\n",
      "Queue contents returned:\n",
      "GCGA\n",
      "branches check\n"
     ]
    }
   ],
   "execution_count": 19
  },
  {
   "metadata": {},
   "cell_type": "markdown",
   "source": "### TEST TREE CONSTRUCTION ###",
   "id": "f95a2a9012930b6"
  },
  {
   "metadata": {
    "ExecuteTime": {
     "end_time": "2024-04-13T11:06:07.634512Z",
     "start_time": "2024-04-13T11:06:07.630362Z"
    }
   },
   "cell_type": "code",
   "source": [
    "for pair in reference_pair_list:\n",
    "    print(\"Reference Pair \", pair.pair_id, \": \", pair.seq1, \", \", pair.seq2)\n",
    "    print(\"Number of trees: \", len(pair.tree_list))\n",
    "    \n",
    "    for tree in pair.tree_list:\n",
    "        print(\"Tree ID: \", tree.id)\n",
    "        print(\"Tree height:\", tree.height)\n",
    "        path, paths = [], []\n",
    "        tree_paths = find_paths(tree.root, path, paths)\n",
    "        print(\"Number of paths in this tree: \", len(tree_paths))\n",
    "        for tree_path in tree_paths:\n",
    "            print(\"Length of path: \", len(tree_path))\n",
    "            for node in tree_path:\n",
    "                print(node)"
   ],
   "id": "474cd5aa8b9341ea",
   "outputs": [
    {
     "name": "stdout",
     "output_type": "stream",
     "text": [
      "Reference Pair  0 :  TTGA ,  TTGA\n",
      "Number of trees:  1\n",
      "Tree ID:  0\n",
      "Tree height: 2\n",
      "Number of paths in this tree:  1\n",
      "Length of path:  3\n",
      "TAGA\n",
      "GCGA\n",
      "GTGA\n",
      "Reference Pair  1 :  GAGA ,  TTGA\n",
      "Number of trees:  1\n",
      "Tree ID:  1\n",
      "Tree height: 2\n",
      "Number of paths in this tree:  1\n",
      "Length of path:  3\n",
      "TAGA\n",
      "GCGA\n",
      "GTGA\n",
      "Reference Pair  2 :  GAGA ,  GACA\n",
      "Number of trees:  1\n",
      "Tree ID:  2\n",
      "Tree height: 2\n",
      "Number of paths in this tree:  1\n",
      "Length of path:  3\n",
      "TAGA\n",
      "GCGA\n",
      "GTGA\n"
     ]
    }
   ],
   "execution_count": 16
  },
  {
   "metadata": {
    "ExecuteTime": {
     "end_time": "2024-04-13T11:06:07.659314Z",
     "start_time": "2024-04-13T11:06:07.655419Z"
    }
   },
   "cell_type": "code",
   "source": [
    "\n",
    "## same as above with less prints ##\n",
    "\n",
    "for pair in reference_pair_list:\n",
    "    print(\"Reference Pair \", pair.pair_id, \": \", pair.seq1, \", \", pair.seq2)\n",
    "    \n",
    "    for tree in pair.tree_list:\n",
    "        print(\"Tree ID: \", tree.id)\n",
    "        path, paths = [], []\n",
    "        tree_paths = find_paths(tree.root, path, paths)\n",
    "        for tree_path in tree_paths:\n",
    "            print(\"Motif: \")\n",
    "            for node in tree_path:\n",
    "                print(node)"
   ],
   "id": "7c00a29c6b8969e9",
   "outputs": [
    {
     "name": "stdout",
     "output_type": "stream",
     "text": [
      "Reference Pair  0 :  TTGA ,  TTGA\n",
      "Tree ID:  0\n",
      "Motif: \n",
      "TAGA\n",
      "GCGA\n",
      "GTGA\n",
      "Reference Pair  1 :  GAGA ,  TTGA\n",
      "Tree ID:  1\n",
      "Motif: \n",
      "TAGA\n",
      "GCGA\n",
      "GTGA\n",
      "Reference Pair  2 :  GAGA ,  GACA\n",
      "Tree ID:  2\n",
      "Motif: \n",
      "TAGA\n",
      "GCGA\n",
      "GTGA\n"
     ]
    }
   ],
   "execution_count": 17
  }
 ],
 "metadata": {
  "kernelspec": {
   "display_name": "Python 3",
   "language": "python",
   "name": "python3"
  },
  "language_info": {
   "codemirror_mode": {
    "name": "ipython",
    "version": 2
   },
   "file_extension": ".py",
   "mimetype": "text/x-python",
   "name": "python",
   "nbconvert_exporter": "python",
   "pygments_lexer": "ipython2",
   "version": "2.7.6"
  }
 },
 "nbformat": 4,
 "nbformat_minor": 5
}
