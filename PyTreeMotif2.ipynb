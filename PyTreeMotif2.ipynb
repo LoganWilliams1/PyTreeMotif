{
 "cells": [
  {
   "metadata": {
    "ExecuteTime": {
     "end_time": "2024-04-13T10:55:14.091697Z",
     "start_time": "2024-04-13T10:55:14.083581Z"
    }
   },
   "cell_type": "code",
   "source": [
    "class Sequence_Node:\n",
    "    def __init__(self, seq, id):\n",
    "        self.seq = seq\n",
    "        self.id = id"
   ],
   "id": "a3e874f49cc80b3a",
   "outputs": [],
   "execution_count": 1
  },
  {
   "metadata": {
    "ExecuteTime": {
     "end_time": "2024-04-13T10:55:14.130920Z",
     "start_time": "2024-04-13T10:55:14.128086Z"
    }
   },
   "cell_type": "code",
   "source": [
    "class Sequence_Node_Set:\n",
    "    def __init__(self, id):\n",
    "        self.id = id\n",
    "        self.members = set()\n",
    "        \n",
    "    def add_member(self, member):\n",
    "        self.members.add(member)"
   ],
   "id": "c657858a1e656fd4",
   "outputs": [],
   "execution_count": 2
  },
  {
   "metadata": {
    "ExecuteTime": {
     "end_time": "2024-04-13T10:55:14.139299Z",
     "start_time": "2024-04-13T10:55:14.135210Z"
    }
   },
   "cell_type": "code",
   "source": [
    "class Reference_Pair:\n",
    "    def __init__(self, pair_id, seq1, seq2, num_seq):\n",
    "        self.pair_id = pair_id\n",
    "        self.seq1 = seq1\n",
    "        self.seq2 = seq2\n",
    "        \n",
    "        self.node_sets = [] \n",
    "        for i in range(2, num_seq):\n",
    "            self.node_sets.append(Sequence_Node_Set(i))\n",
    "            \n",
    "        self.tree_list = []\n",
    "\n",
    "        \n",
    "    "
   ],
   "id": "291f106cddb4d531",
   "outputs": [],
   "execution_count": 3
  },
  {
   "metadata": {
    "ExecuteTime": {
     "end_time": "2024-04-13T10:55:14.147921Z",
     "start_time": "2024-04-13T10:55:14.144251Z"
    }
   },
   "cell_type": "code",
   "source": [
    "def read_file_to_list(filename):\n",
    "    try:\n",
    "        # Open the file in read mode\n",
    "        with open(filename, 'r') as file:\n",
    "            # Read all lines from the file and store them in a list\n",
    "            lines = file.readlines()\n",
    "        # Remove newline characters from each line and strip any leading/trailing whitespaces\n",
    "        lines = [line.strip() for line in lines]\n",
    "        \n",
    "        return lines\n",
    "    except FileNotFoundError:\n",
    "        print(f\"Error: File '{filename}' not found.\")\n",
    "        return []\n",
    "    except Exception as e:\n",
    "        print(f\"Error: {e}\")\n",
    "        return []"
   ],
   "id": "8124253d90d9bbb",
   "outputs": [],
   "execution_count": 4
  },
  {
   "metadata": {
    "ExecuteTime": {
     "end_time": "2024-04-13T10:55:14.152812Z",
     "start_time": "2024-04-13T10:55:14.149780Z"
    }
   },
   "cell_type": "code",
   "source": [
    "def hamming_distance(str1, str2):\n",
    "\n",
    "    return sum(bit1 != bit2 for bit1, bit2 in zip(str1, str2))\n",
    "    "
   ],
   "id": "18d3bb406808d6c2",
   "outputs": [],
   "execution_count": 5
  },
  {
   "metadata": {},
   "cell_type": "markdown",
   "source": "### Inputs ###",
   "id": "ef5254f49ab899b8"
  },
  {
   "metadata": {
    "ExecuteTime": {
     "end_time": "2024-04-13T10:55:14.156752Z",
     "start_time": "2024-04-13T10:55:14.154401Z"
    }
   },
   "cell_type": "code",
   "source": [
    "l = 4\n",
    "d = 1\n",
    "\n",
    "input_filename = 'minimal_test.txt'\n"
   ],
   "id": "be3a99c7bd2b3ec",
   "outputs": [],
   "execution_count": 6
  },
  {
   "metadata": {},
   "cell_type": "markdown",
   "source": "### Step 1: Node Selection ###",
   "id": "cba84ca10ff13f44"
  },
  {
   "metadata": {
    "ExecuteTime": {
     "end_time": "2024-04-13T10:55:14.181050Z",
     "start_time": "2024-04-13T10:55:14.172977Z"
    }
   },
   "cell_type": "code",
   "source": [
    "\n",
    "_2d = 2 * d\n",
    "\n",
    "sequence_list = read_file_to_list(input_filename)\n",
    "num_seq = len(sequence_list)\n",
    "\n",
    "reference_seq_1 = sequence_list[0]\n",
    "reference_seq_2 = sequence_list[1]\n",
    "reference_pair_list = []\n",
    "reference_pair_counter = 0\n",
    "    \n",
    "for i in range(len(reference_seq_1) - l + 1):\n",
    "    for j in range(len(reference_seq_2) - l + 1):\n",
    "        if hamming_distance(reference_seq_1[i:i+l], reference_seq_2[j:j+l]) <= _2d:\n",
    "            ref_sub_seq = reference_seq_1[i:i+l]\n",
    "            ref_sub_seq2 = reference_seq_2[j:j+l]\n",
    "            reference_pair = Reference_Pair(pair_id=reference_pair_counter, seq1=ref_sub_seq, seq2=ref_sub_seq2, num_seq=num_seq)\n",
    "\n",
    "            \n",
    "            count_seqs_with_nodes = 0\n",
    "            for k in range(2, num_seq):                \n",
    "                has_nodes = False\n",
    "                for m in range(len(sequence_list[k]) - l + 1):\n",
    "                    sub_seq = sequence_list[k][m:m+l]\n",
    "                    if hamming_distance(sub_seq, ref_sub_seq) <= _2d and hamming_distance(sub_seq, reference_seq_2) <= _2d:\n",
    "                        seq_node = Sequence_Node(seq=sub_seq, id=k)\n",
    "                        reference_pair.node_sets[k-2].add_member(seq_node)\n",
    "                        has_nodes = True\n",
    "                if has_nodes:\n",
    "                    count_seqs_with_nodes += 1\n",
    "            \n",
    "            if count_seqs_with_nodes == num_seq - 2:\n",
    "                reference_pair_list.append(reference_pair)\n",
    "                reference_pair_counter += 1\n",
    "                print(\"Reference Pair \", reference_pair.pair_id)\n",
    "                \n",
    "\n",
    "            \n",
    "\n",
    "\n"
   ],
   "id": "bfcb5d26f7f910e1",
   "outputs": [
    {
     "name": "stdout",
     "output_type": "stream",
     "text": [
      "Reference Pair  0\n",
      "Reference Pair  1\n",
      "Reference Pair  2\n"
     ]
    }
   ],
   "execution_count": 7
  },
  {
   "metadata": {
    "ExecuteTime": {
     "end_time": "2024-04-13T10:55:14.187236Z",
     "start_time": "2024-04-13T10:55:14.182546Z"
    }
   },
   "cell_type": "code",
   "source": [
    "for pair in reference_pair_list:\n",
    "    print(\"Reference Pair\", pair.pair_id, \": \", pair.seq1, \", \", pair.seq2)\n",
    "    print()\n",
    "\n",
    "    for node_set in pair.node_sets:\n",
    "        print(\"Sequence \", node_set.id, \"'s nodes for pair \", pair.pair_id, \": \")\n",
    "        for node in node_set.members:\n",
    "            print(node.seq)\n",
    "\n",
    "\n",
    "\n"
   ],
   "id": "244147bb9491826",
   "outputs": [
    {
     "name": "stdout",
     "output_type": "stream",
     "text": [
      "Reference Pair 0 :  TTGA ,  TTGA\n",
      "\n",
      "Sequence  2 's nodes for pair  0 : \n",
      "TAGA\n",
      "Sequence  3 's nodes for pair  0 : \n",
      "GCGA\n",
      "Sequence  4 's nodes for pair  0 : \n",
      "GTGA\n",
      "Reference Pair 1 :  GAGA ,  TTGA\n",
      "\n",
      "Sequence  2 's nodes for pair  1 : \n",
      "TAGA\n",
      "Sequence  3 's nodes for pair  1 : \n",
      "GCGA\n",
      "Sequence  4 's nodes for pair  1 : \n",
      "GTGA\n",
      "Reference Pair 2 :  GAGA ,  GACA\n",
      "\n",
      "Sequence  2 's nodes for pair  2 : \n",
      "TAGA\n",
      "Sequence  3 's nodes for pair  2 : \n",
      "GCGA\n",
      "Sequence  4 's nodes for pair  2 : \n",
      "GTGA\n"
     ]
    }
   ],
   "execution_count": 8
  },
  {
   "metadata": {},
   "cell_type": "markdown",
   "source": "### Step 2: Tree Construction ###",
   "id": "5c88dce40133a98b"
  },
  {
   "metadata": {
    "ExecuteTime": {
     "end_time": "2024-04-13T10:55:14.192533Z",
     "start_time": "2024-04-13T10:55:14.188892Z"
    }
   },
   "cell_type": "code",
   "source": [
    "class Tree_Node:\n",
    "    def __init__(self, seq, seq_id, depth=0):\n",
    "        self.seq = seq\n",
    "        self.seq_id = seq_id\n",
    "        self.children = []\n",
    "        self.depth = depth\n",
    "        self.parent = None\n",
    "\n",
    "    def add_child(self, child_node):\n",
    "        child_node.parent = self\n",
    "        child_node.depth = self.depth + 1\n",
    "        self.children.append(child_node)\n",
    "        \n",
    "\n",
    "    def remove_child(self, child_node):\n",
    "        if child_node in self.children:\n",
    "            child_node.parent = None\n",
    "            self.children.remove(child_node)"
   ],
   "id": "b912f4314f434eba",
   "outputs": [],
   "execution_count": 9
  },
  {
   "metadata": {
    "ExecuteTime": {
     "end_time": "2024-04-13T10:55:14.197550Z",
     "start_time": "2024-04-13T10:55:14.193982Z"
    }
   },
   "cell_type": "code",
   "source": [
    "class Tree:\n",
    "    def __init__(self, root):\n",
    "        self.root = Tree_Node(root.seq, root.id)\n",
    "        self.current_leaves = []\n",
    "        self.height = 0\n",
    "        self.id = 0\n",
    "    \n",
    "    def save_leaf(self, leaf):\n",
    "        self.current_leaves.append(leaf)\n",
    "        \n",
    "    def unsave_leaf(self, leaf):\n",
    "        if leaf in self.current_leaves:\n",
    "            self.current_leaves.remove(leaf)"
   ],
   "id": "53897b64ff3bdc9f",
   "outputs": [],
   "execution_count": 10
  },
  {
   "metadata": {
    "ExecuteTime": {
     "end_time": "2024-04-13T10:55:14.201692Z",
     "start_time": "2024-04-13T10:55:14.198950Z"
    }
   },
   "cell_type": "code",
   "source": [
    "from collections import deque\n",
    "import copy"
   ],
   "id": "95847246d7c1e8cb",
   "outputs": [],
   "execution_count": 11
  },
  {
   "metadata": {
    "ExecuteTime": {
     "end_time": "2024-04-13T10:55:14.225134Z",
     "start_time": "2024-04-13T10:55:14.220489Z"
    }
   },
   "cell_type": "code",
   "source": [
    "def extendable(node, tree, ith_seq):\n",
    "    queue = deque()\n",
    "    if hamming_distance(tree.root.seq, node.seq) <= _2d:\n",
    "        queue.append(tree.root)\n",
    "        print(\"Root:\", tree.root.seq)\n",
    "        print(\"Node to add: \", node.seq, \" from sequence \", ith_seq)\n",
    "        iteration = 0\n",
    "        while len(queue) > 0 and queue[0].depth < ith_seq - 3:\n",
    "            \n",
    "            print(\"Queue contents at iteration \", iteration, \":\")\n",
    "            for i in queue:\n",
    "                print(i.seq)\n",
    "            \n",
    "            print(\"while loop check\")\n",
    "            front = queue.popleft()\n",
    "            for child in front.children:\n",
    "                if hamming_distance(child.seq, node.seq) <= _2d:\n",
    "                    queue.append(child)\n",
    "            \n",
    "            iteration += 1\n",
    "        \n",
    "        \n",
    "    print(\"Queue contents returned:\")\n",
    "    for i in queue:\n",
    "        print(i.seq)\n",
    "\n",
    "    return queue\n",
    "        "
   ],
   "id": "836ac43ace1fbaa8",
   "outputs": [],
   "execution_count": 12
  },
  {
   "metadata": {
    "ExecuteTime": {
     "end_time": "2024-04-13T10:55:14.237502Z",
     "start_time": "2024-04-13T10:55:14.233148Z"
    }
   },
   "cell_type": "code",
   "source": [
    "def prune_branches(tree):\n",
    "    for leaf in tree.current_leaves:\n",
    "        if leaf.depth < tree.height:\n",
    "            current_node = leaf\n",
    "            num_siblings = len(current_node.parent.children) - 1\n",
    "            while num_siblings == 0:\n",
    "                current_node = current_node.parent\n",
    "                num_siblings = len(current_node.parent.children) - 1\n",
    "            parent = current_node.parent\n",
    "            parent.remove_child(current_node)"
   ],
   "id": "8e24be551bba853b",
   "outputs": [],
   "execution_count": 13
  },
  {
   "metadata": {
    "ExecuteTime": {
     "end_time": "2024-04-13T10:55:14.244247Z",
     "start_time": "2024-04-13T10:55:14.238804Z"
    }
   },
   "cell_type": "code",
   "source": [
    "tree_count = 0\n",
    "for pair in reference_pair_list:\n",
    "    node_sets = pair.node_sets\n",
    "    for node in node_sets[0].members:\n",
    "        root = Sequence_Node(seq=node.seq, id=node.id)\n",
    "        tree = Tree(root)\n",
    "        \n",
    "        for i in range(3, num_seq):\n",
    "            flag = False\n",
    "            for node in node_sets[i-2].members:\n",
    "                branches = extendable(node, tree, i)\n",
    "                if branches:\n",
    "                    print(\"branches check\")\n",
    "                    for branch in branches:\n",
    "                        new_leaf = Tree_Node(seq=node.seq, seq_id=node.id)\n",
    "                        branch.add_child(new_leaf)\n",
    "                        tree.save_leaf(new_leaf)\n",
    "                        tree.unsave_leaf(branch)\n",
    "                    flag = True\n",
    "            if not flag:\n",
    "                tree = None\n",
    "                break\n",
    "            tree.height += 1\n",
    "            prune_branches(tree)\n",
    "        if tree:    \n",
    "            pair.tree_list.append(tree)\n",
    "            tree.id = tree_count\n",
    "            tree_count += 1\n",
    "\n",
    "    \n",
    "            \n",
    "            \n",
    "        \n",
    "        "
   ],
   "id": "94eaeac5108e9493",
   "outputs": [
    {
     "name": "stdout",
     "output_type": "stream",
     "text": [
      "Root: TAGA\n",
      "Node to add:  GCGA  from sequence  3\n",
      "Queue contents returned:\n",
      "TAGA\n",
      "branches check\n",
      "Root: TAGA\n",
      "Node to add:  GTGA  from sequence  4\n",
      "Queue contents at iteration  0 :\n",
      "TAGA\n",
      "while loop check\n",
      "Queue contents returned:\n",
      "GCGA\n",
      "branches check\n",
      "Root: TAGA\n",
      "Node to add:  GCGA  from sequence  3\n",
      "Queue contents returned:\n",
      "TAGA\n",
      "branches check\n",
      "Root: TAGA\n",
      "Node to add:  GTGA  from sequence  4\n",
      "Queue contents at iteration  0 :\n",
      "TAGA\n",
      "while loop check\n",
      "Queue contents returned:\n",
      "GCGA\n",
      "branches check\n",
      "Root: TAGA\n",
      "Node to add:  GCGA  from sequence  3\n",
      "Queue contents returned:\n",
      "TAGA\n",
      "branches check\n",
      "Root: TAGA\n",
      "Node to add:  GTGA  from sequence  4\n",
      "Queue contents at iteration  0 :\n",
      "TAGA\n",
      "while loop check\n",
      "Queue contents returned:\n",
      "GCGA\n",
      "branches check\n"
     ]
    }
   ],
   "execution_count": 14
  },
  {
   "metadata": {
    "ExecuteTime": {
     "end_time": "2024-04-13T10:55:14.249047Z",
     "start_time": "2024-04-13T10:55:14.245572Z"
    }
   },
   "cell_type": "code",
   "source": [
    "def find_paths(node, path, paths):\n",
    "    if node is None:\n",
    "        return\n",
    "    path.append(node.seq)\n",
    "    if not node.children:\n",
    "        paths.append(path)\n",
    "    \n",
    "    for child in node.children:\n",
    "        find_paths(child, path, paths)\n",
    "        \n",
    "    \n",
    "    \n",
    "    return paths"
   ],
   "id": "79bef1f6ef2fd760",
   "outputs": [],
   "execution_count": 15
  },
  {
   "metadata": {
    "ExecuteTime": {
     "end_time": "2024-04-13T10:55:14.270501Z",
     "start_time": "2024-04-13T10:55:14.265516Z"
    }
   },
   "cell_type": "code",
   "source": [
    "for pair in reference_pair_list:\n",
    "    print(\"Reference Pair \", pair.pair_id, \": \", pair.seq1, \", \", pair.seq2)\n",
    "    print(\"Number of trees: \", len(pair.tree_list))\n",
    "    \n",
    "    for tree in pair.tree_list:\n",
    "        print(\"Tree ID: \", tree.id)\n",
    "        print(\"Tree height:\", tree.height)\n",
    "        path, paths = [], []\n",
    "        tree_paths = find_paths(tree.root, path, paths)\n",
    "        print(\"Number of paths in this tree: \", len(tree_paths))\n",
    "        for tree_path in tree_paths:\n",
    "            print(\"Length of path: \", len(tree_path))\n",
    "            for node in tree_path:\n",
    "                print(node)"
   ],
   "id": "474cd5aa8b9341ea",
   "outputs": [
    {
     "name": "stdout",
     "output_type": "stream",
     "text": [
      "Reference Pair  0 :  TTGA ,  TTGA\n",
      "Number of trees:  1\n",
      "Tree ID:  0\n",
      "Tree height: 2\n",
      "Number of paths in this tree:  1\n",
      "Length of path:  3\n",
      "TAGA\n",
      "GCGA\n",
      "GTGA\n",
      "Reference Pair  1 :  GAGA ,  TTGA\n",
      "Number of trees:  1\n",
      "Tree ID:  1\n",
      "Tree height: 2\n",
      "Number of paths in this tree:  1\n",
      "Length of path:  3\n",
      "TAGA\n",
      "GCGA\n",
      "GTGA\n",
      "Reference Pair  2 :  GAGA ,  GACA\n",
      "Number of trees:  1\n",
      "Tree ID:  2\n",
      "Tree height: 2\n",
      "Number of paths in this tree:  1\n",
      "Length of path:  3\n",
      "TAGA\n",
      "GCGA\n",
      "GTGA\n"
     ]
    }
   ],
   "execution_count": 16
  },
  {
   "metadata": {
    "ExecuteTime": {
     "end_time": "2024-04-13T10:55:14.279236Z",
     "start_time": "2024-04-13T10:55:14.277231Z"
    }
   },
   "cell_type": "code",
   "source": "",
   "id": "7c00a29c6b8969e9",
   "outputs": [],
   "execution_count": 16
  }
 ],
 "metadata": {
  "kernelspec": {
   "display_name": "Python 3",
   "language": "python",
   "name": "python3"
  },
  "language_info": {
   "codemirror_mode": {
    "name": "ipython",
    "version": 2
   },
   "file_extension": ".py",
   "mimetype": "text/x-python",
   "name": "python",
   "nbconvert_exporter": "python",
   "pygments_lexer": "ipython2",
   "version": "2.7.6"
  }
 },
 "nbformat": 4,
 "nbformat_minor": 5
}
